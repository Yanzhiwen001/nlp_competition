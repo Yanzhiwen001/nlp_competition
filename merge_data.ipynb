{
 "cells": [
  {
   "cell_type": "markdown",
   "metadata": {},
   "source": [
    "Merge three prediction result into one with order"
   ]
  },
  {
   "cell_type": "code",
   "execution_count": 79,
   "metadata": {},
   "outputs": [],
   "source": [
    "import csv\n",
    "import pandas as pd"
   ]
  },
  {
   "cell_type": "code",
   "execution_count": 91,
   "metadata": {},
   "outputs": [],
   "source": [
    "#load three prediction result\n",
    "hau_result = pd.read_csv(\"submission_hau_baseling_175epoch.csv\", encoding='utf-8')\n",
    "tha_result = pd.read_csv(\"tha_result2.csv\", encoding='utf-8')\n",
    "kir_result = pd.read_csv(\"submission_kir_20_epoch.csv\", encoding='utf-8')\n",
    "test_input = pd.read_csv(\"test.csv\", encoding='utf-8')\n"
   ]
  },
  {
   "cell_type": "code",
   "execution_count": 92,
   "metadata": {},
   "outputs": [],
   "source": [
    "#convert each dataframe to dict (including original?)\n",
    "df = hau_result.append(tha_result)\n",
    "df = df.append(kir_result)"
   ]
  },
  {
   "cell_type": "code",
   "execution_count": 93,
   "metadata": {},
   "outputs": [],
   "source": [
    "#map value according to image id and output\n",
    "merge = pd.merge(test_input, df, on=\"Id\")\n",
    "del merge['ImageURL']\n",
    "del merge['ISO639-3']\n",
    "merge.to_csv(\"submission6.csv\", encoding='utf-8', index=False)"
   ]
  },
  {
   "cell_type": "code",
   "execution_count": 50,
   "metadata": {},
   "outputs": [],
   "source": [
    "import numpy as np"
   ]
  },
  {
   "cell_type": "code",
   "execution_count": 78,
   "metadata": {},
   "outputs": [
    {
     "data": {
      "text/plain": [
       "4.4892973295950965e-05"
      ]
     },
     "execution_count": 78,
     "metadata": {},
     "output_type": "execute_result"
    }
   ],
   "source": [
    "a = (16*3.14*3.14*3.14*3.14*np.sqrt(539.8))*np.exp(-0.5*0.9677)\n",
    "1/a"
   ]
  },
  {
   "cell_type": "code",
   "execution_count": 77,
   "metadata": {},
   "outputs": [
    {
     "data": {
      "text/plain": [
       "matrix([[0.96775377]])"
      ]
     },
     "execution_count": 77,
     "metadata": {},
     "output_type": "execute_result"
    }
   ],
   "source": [
    "a1=np.mat([-0.5,0.1,-0.7,-0.2,-0.3,-0.9,-0.5,-0.1])\n",
    "a2 = a1.T\n",
    "\n",
    "b1=np.mat([[1/1.5, 0, 0, 0, 0, 0, 0, 0], \n",
    "           [0, 1/1.4, 0, 0, 0, 0, 0, 0],\n",
    "           [0,0,1/2.3,0,0,0,0,0],\n",
    "           [0,0,0,1/3.3,0,0,0,0],\n",
    "           [0,0,0,0,1/2.3,0,0,0],\n",
    "           [0,0,0,0,0,1/1.9,0,0],\n",
    "           [0,0,0,0,0,0,1/2.5,0],\n",
    "           [0,0,0,0,0,0,0,1/3]])\n",
    "\n",
    "a1*b1*a2"
   ]
  }
 ],
 "metadata": {
  "kernelspec": {
   "display_name": "Python 3.7.15 ('tensorflow')",
   "language": "python",
   "name": "python3"
  },
  "language_info": {
   "codemirror_mode": {
    "name": "ipython",
    "version": 3
   },
   "file_extension": ".py",
   "mimetype": "text/x-python",
   "name": "python",
   "nbconvert_exporter": "python",
   "pygments_lexer": "ipython3",
   "version": "3.7.15"
  },
  "orig_nbformat": 4,
  "vscode": {
   "interpreter": {
    "hash": "11ec100023c0832803804b166c9e313587998d7e80407ebd90b9748988d89aaa"
   }
  }
 },
 "nbformat": 4,
 "nbformat_minor": 2
}
